{
 "cells": [
  {
   "cell_type": "code",
   "execution_count": 2,
   "id": "ef58d894-0af5-471e-9834-863647601bbc",
   "metadata": {},
   "outputs": [
    {
     "name": "stdout",
     "output_type": "stream",
     "text": [
      "sup\n",
      "sis\n"
     ]
    }
   ],
   "source": [
    "astr = 'supercalifragilisticespialadosis'\n",
    "\n",
    "print(astr[:3])\n",
    "\n",
    "print(astr[-3:])"
   ]
  },
  {
   "cell_type": "code",
   "execution_count": 6,
   "id": "edadedd8-17a6-46b4-b9d7-61daac7f2b68",
   "metadata": {},
   "outputs": [],
   "source": [
    "thethree = []\n",
    "thethree.append('a')\n",
    "thethree.append('b')\n",
    "thethree.append('c')"
   ]
  },
  {
   "cell_type": "code",
   "execution_count": 7,
   "id": "9c6d8e96-9d59-49ea-9c60-65e527236225",
   "metadata": {},
   "outputs": [
    {
     "data": {
      "text/plain": [
       "'b'"
      ]
     },
     "execution_count": 7,
     "metadata": {},
     "output_type": "execute_result"
    }
   ],
   "source": [
    "thethree[1]"
   ]
  },
  {
   "cell_type": "code",
   "execution_count": 8,
   "id": "36050193-8424-4fc0-907f-2a00f8c6934e",
   "metadata": {},
   "outputs": [],
   "source": [
    "tupthree = (0,1,2)"
   ]
  },
  {
   "cell_type": "code",
   "execution_count": 9,
   "id": "4f8501f5-d3c9-41a8-8148-7323d23b503e",
   "metadata": {},
   "outputs": [
    {
     "data": {
      "text/plain": [
       "(0, 1, 2)"
      ]
     },
     "execution_count": 9,
     "metadata": {},
     "output_type": "execute_result"
    }
   ],
   "source": [
    "tupthree"
   ]
  },
  {
   "cell_type": "code",
   "execution_count": 16,
   "id": "9e82c472-24da-4575-b870-ce579fbfbc6c",
   "metadata": {},
   "outputs": [],
   "source": [
    "tupthree = (*tupthree, 3)"
   ]
  },
  {
   "cell_type": "code",
   "execution_count": 17,
   "id": "a934a8f7-720d-4c6e-beca-94d8040e0531",
   "metadata": {},
   "outputs": [
    {
     "data": {
      "text/plain": [
       "(0, 1, 2, 3)"
      ]
     },
     "execution_count": 17,
     "metadata": {},
     "output_type": "execute_result"
    }
   ],
   "source": [
    "tupthree"
   ]
  },
  {
   "cell_type": "code",
   "execution_count": 32,
   "id": "5152fd92-584d-411b-a2fc-a06b0c15f234",
   "metadata": {},
   "outputs": [],
   "source": [
    "aset = { 'red', 'green'}"
   ]
  },
  {
   "cell_type": "code",
   "execution_count": 33,
   "id": "31e08f75-0519-436c-b75a-1de2b068e2b7",
   "metadata": {},
   "outputs": [],
   "source": [
    "blue = \"blue\"\n",
    "aset.update(blue)"
   ]
  },
  {
   "cell_type": "code",
   "execution_count": 34,
   "id": "0bf0867d-eb5d-4637-9792-f5d06a7b5153",
   "metadata": {},
   "outputs": [
    {
     "data": {
      "text/plain": [
       "{'b', 'e', 'green', 'l', 'red', 'u'}"
      ]
     },
     "execution_count": 34,
     "metadata": {},
     "output_type": "execute_result"
    }
   ],
   "source": [
    "aset"
   ]
  },
  {
   "cell_type": "code",
   "execution_count": 35,
   "id": "685aa843-6cc5-4e12-b76d-7e8e6ae0366a",
   "metadata": {},
   "outputs": [],
   "source": [
    "adict = {'one':'uno', 'two':'dos', 'three':'tres'}"
   ]
  },
  {
   "cell_type": "code",
   "execution_count": 39,
   "id": "4b77383b-a435-49b2-aa87-24a51480b51a",
   "metadata": {},
   "outputs": [
    {
     "data": {
      "text/plain": [
       "'uno'"
      ]
     },
     "execution_count": 39,
     "metadata": {},
     "output_type": "execute_result"
    }
   ],
   "source": [
    "adict['one']"
   ]
  },
  {
   "cell_type": "code",
   "execution_count": 40,
   "id": "1fde6f14-cad4-47c2-be59-4fed052af4a9",
   "metadata": {},
   "outputs": [
    {
     "data": {
      "text/plain": [
       "'uno'"
      ]
     },
     "execution_count": 40,
     "metadata": {},
     "output_type": "execute_result"
    }
   ],
   "source": [
    "adict.get('one')"
   ]
  },
  {
   "cell_type": "code",
   "execution_count": 41,
   "id": "425209cd-488a-4fc7-a4d4-2d4cbe145da0",
   "metadata": {},
   "outputs": [],
   "source": [
    "adict.get('nothing')"
   ]
  },
  {
   "cell_type": "code",
   "execution_count": 44,
   "id": "2328e704-5ed0-4a96-bcc3-62e449baaa02",
   "metadata": {},
   "outputs": [
    {
     "data": {
      "text/plain": [
       "['one', 'two', 'three']"
      ]
     },
     "execution_count": 44,
     "metadata": {},
     "output_type": "execute_result"
    }
   ],
   "source": [
    "[str(key) for key in adict.keys()]"
   ]
  },
  {
   "cell_type": "code",
   "execution_count": 45,
   "id": "e799febc-c222-4616-9fad-6fa46bf083ad",
   "metadata": {},
   "outputs": [],
   "source": [
    "sent = \"The quick brown fox jumped over the lazy dogs.\""
   ]
  },
  {
   "cell_type": "code",
   "execution_count": 48,
   "id": "a7c84154-1f63-4357-acb1-2e84cf700f87",
   "metadata": {},
   "outputs": [
    {
     "data": {
      "text/plain": [
       "{'brown', 'dogs', 'fox', 'jumped', 'lazy', 'over', 'quick', 'the'}"
      ]
     },
     "execution_count": 48,
     "metadata": {},
     "output_type": "execute_result"
    }
   ],
   "source": [
    "{word.replace('.', '').lower() for word in sent.split()}"
   ]
  },
  {
   "cell_type": "code",
   "execution_count": null,
   "id": "a48e167f-f32f-421b-ad1f-86e8663e7c2a",
   "metadata": {},
   "outputs": [],
   "source": []
  }
 ],
 "metadata": {
  "kernelspec": {
   "display_name": "Python 3 (ipykernel)",
   "language": "python",
   "name": "python3"
  },
  "language_info": {
   "codemirror_mode": {
    "name": "ipython",
    "version": 3
   },
   "file_extension": ".py",
   "mimetype": "text/x-python",
   "name": "python",
   "nbconvert_exporter": "python",
   "pygments_lexer": "ipython3",
   "version": "3.12.5"
  }
 },
 "nbformat": 4,
 "nbformat_minor": 5
}
