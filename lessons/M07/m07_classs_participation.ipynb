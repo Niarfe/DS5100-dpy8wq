{
 "cells": [
  {
   "cell_type": "code",
   "execution_count": 6,
   "id": "b41246b3-8baf-4e5d-b1e0-9026575138e4",
   "metadata": {},
   "outputs": [
    {
     "data": {
      "text/plain": [
       "'foowow'"
      ]
     },
     "execution_count": 6,
     "metadata": {},
     "output_type": "execute_result"
    }
   ],
   "source": [
    "class MyClass:\n",
    "    \"\"\"\n",
    "    Example class for Exersize 7.1\n",
    "    \"\"\"\n",
    "    att1 = \"foo\"\n",
    "    def __init__(self, att2):\n",
    "        self.att2 = att2\n",
    "\n",
    "    def add(self):\n",
    "        return MyClass.att1 + self.att2\n",
    "\n",
    "mclass = MyClass(\"wow\")\n",
    "mclass.add()\n",
    "        \n",
    "        "
   ]
  },
  {
   "cell_type": "code",
   "execution_count": 8,
   "id": "968cf313-8dd4-4629-a03a-70a087fda2a0",
   "metadata": {},
   "outputs": [
    {
     "data": {
      "text/plain": [
       "'foo'"
      ]
     },
     "execution_count": 8,
     "metadata": {},
     "output_type": "execute_result"
    }
   ],
   "source": [
    "MyClass.att1"
   ]
  },
  {
   "cell_type": "code",
   "execution_count": 9,
   "id": "b137941b-7ebf-422e-9cc0-6a0c59bfc288",
   "metadata": {},
   "outputs": [
    {
     "data": {
      "text/plain": [
       "4407698624"
      ]
     },
     "execution_count": 9,
     "metadata": {},
     "output_type": "execute_result"
    }
   ],
   "source": [
    "id(MyClass.att1)"
   ]
  },
  {
   "cell_type": "code",
   "execution_count": 10,
   "id": "483c2cdf-f9d5-4b19-91bf-69d0cee1c6e0",
   "metadata": {},
   "outputs": [
    {
     "data": {
      "text/plain": [
       "4407698624"
      ]
     },
     "execution_count": 10,
     "metadata": {},
     "output_type": "execute_result"
    }
   ],
   "source": [
    "id(mclass.att1)"
   ]
  },
  {
   "cell_type": "code",
   "execution_count": 11,
   "id": "f46947f9-bd66-486f-b148-e0bd07d30770",
   "metadata": {},
   "outputs": [],
   "source": [
    "mclass.att1 = \"bar\""
   ]
  },
  {
   "cell_type": "code",
   "execution_count": 12,
   "id": "f4368754-73b0-491b-8869-d2346a016955",
   "metadata": {},
   "outputs": [
    {
     "data": {
      "text/plain": [
       "'foo'"
      ]
     },
     "execution_count": 12,
     "metadata": {},
     "output_type": "execute_result"
    }
   ],
   "source": [
    "MyClass.att1"
   ]
  },
  {
   "cell_type": "code",
   "execution_count": 13,
   "id": "ad7f9a87-fdaa-4f12-a40f-c717e2bba9d8",
   "metadata": {},
   "outputs": [
    {
     "data": {
      "text/plain": [
       "'bar'"
      ]
     },
     "execution_count": 13,
     "metadata": {},
     "output_type": "execute_result"
    }
   ],
   "source": [
    "mclass.att1"
   ]
  },
  {
   "cell_type": "code",
   "execution_count": 14,
   "id": "ecb2f95f-ded9-4d37-b5b1-c5cdedfdda0e",
   "metadata": {},
   "outputs": [
    {
     "data": {
      "text/plain": [
       "4407698624"
      ]
     },
     "execution_count": 14,
     "metadata": {},
     "output_type": "execute_result"
    }
   ],
   "source": [
    "id(MyClass.att1)"
   ]
  },
  {
   "cell_type": "code",
   "execution_count": 15,
   "id": "82ccf5f1-6316-4713-8ba6-5495c4108542",
   "metadata": {},
   "outputs": [
    {
     "data": {
      "text/plain": [
       "4407700400"
      ]
     },
     "execution_count": 15,
     "metadata": {},
     "output_type": "execute_result"
    }
   ],
   "source": [
    "id(mclass.att1)"
   ]
  }
 ],
 "metadata": {
  "kernelspec": {
   "display_name": "Python 3 (ipykernel)",
   "language": "python",
   "name": "python3"
  },
  "language_info": {
   "codemirror_mode": {
    "name": "ipython",
    "version": 3
   },
   "file_extension": ".py",
   "mimetype": "text/x-python",
   "name": "python",
   "nbconvert_exporter": "python",
   "pygments_lexer": "ipython3",
   "version": "3.12.5"
  }
 },
 "nbformat": 4,
 "nbformat_minor": 5
}
