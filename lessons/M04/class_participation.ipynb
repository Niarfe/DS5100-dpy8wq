{
 "cells": [
  {
   "cell_type": "code",
   "execution_count": 4,
   "id": "1129fc66-1e41-46a8-999c-e33924e29bef",
   "metadata": {},
   "outputs": [],
   "source": [
    "def somefunc(astr, anint):\n",
    "    return len(astr) == anint"
   ]
  },
  {
   "cell_type": "code",
   "execution_count": 5,
   "id": "e071dd41-dce2-49d1-9072-cc07b2117c39",
   "metadata": {},
   "outputs": [
    {
     "data": {
      "text/plain": [
       "True"
      ]
     },
     "execution_count": 5,
     "metadata": {},
     "output_type": "execute_result"
    }
   ],
   "source": [
    "somefunc(\"bob\", 3)"
   ]
  },
  {
   "cell_type": "code",
   "execution_count": 6,
   "id": "594ace34-4a2b-4cd0-910f-dc6e37390cdd",
   "metadata": {},
   "outputs": [
    {
     "data": {
      "text/plain": [
       "False"
      ]
     },
     "execution_count": 6,
     "metadata": {},
     "output_type": "execute_result"
    }
   ],
   "source": [
    "somefunc(\"bob\", 1)"
   ]
  },
  {
   "cell_type": "code",
   "execution_count": 11,
   "id": "8945e112-1c66-41bd-87b9-e60abf0e0fe5",
   "metadata": {},
   "outputs": [
    {
     "ename": "NameError",
     "evalue": "name 't2t' is not defined",
     "output_type": "error",
     "traceback": [
      "\u001b[0;31m---------------------------------------------------------------------------\u001b[0m",
      "\u001b[0;31mNameError\u001b[0m                                 Traceback (most recent call last)",
      "Cell \u001b[0;32mIn[11], line 4\u001b[0m\n\u001b[1;32m      1\u001b[0m c2f \u001b[38;5;241m=\u001b[39m \u001b[38;5;28;01mlambda\u001b[39;00m c: \u001b[38;5;241m1.8\u001b[39m\u001b[38;5;241m*\u001b[39mc \u001b[38;5;241m+\u001b[39m \u001b[38;5;241m32\u001b[39m\n\u001b[1;32m      2\u001b[0m f2c \u001b[38;5;241m=\u001b[39m \u001b[38;5;28;01mlambda\u001b[39;00m f: (f\u001b[38;5;241m-\u001b[39m\u001b[38;5;241m32\u001b[39m)\u001b[38;5;241m/\u001b[39m\u001b[38;5;241m1.8\u001b[39m\n\u001b[0;32m----> 4\u001b[0m f \u001b[38;5;241m=\u001b[39m \u001b[43mt2t\u001b[49m(\u001b[38;5;241m45\u001b[39m, \u001b[38;5;124m'\u001b[39m\u001b[38;5;124mf\u001b[39m\u001b[38;5;124m'\u001b[39m)\n\u001b[1;32m      5\u001b[0m \u001b[38;5;28mprint\u001b[39m(f)\n",
      "\u001b[0;31mNameError\u001b[0m: name 't2t' is not defined"
     ]
    }
   ],
   "source": [
    "c2f = lambda c: 1.8*c + 32\n",
    "f2c = lambda f: (f-32)/1.8\n",
    "t2t = lambda tf, rep: return c2f(tf)\n",
    "f = t2t(45, 'f')\n",
    "print(f)"
   ]
  }
 ],
 "metadata": {
  "kernelspec": {
   "display_name": "Python 3 (ipykernel)",
   "language": "python",
   "name": "python3"
  },
  "language_info": {
   "codemirror_mode": {
    "name": "ipython",
    "version": 3
   },
   "file_extension": ".py",
   "mimetype": "text/x-python",
   "name": "python",
   "nbconvert_exporter": "python",
   "pygments_lexer": "ipython3",
   "version": "3.12.5"
  }
 },
 "nbformat": 4,
 "nbformat_minor": 5
}
