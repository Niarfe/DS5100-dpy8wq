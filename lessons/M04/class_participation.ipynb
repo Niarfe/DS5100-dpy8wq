{
 "cells": [
  {
   "cell_type": "code",
   "execution_count": 4,
   "id": "1129fc66-1e41-46a8-999c-e33924e29bef",
   "metadata": {},
   "outputs": [],
   "source": [
    "def somefunc(astr, anint):\n",
    "    return len(astr) == anint"
   ]
  },
  {
   "cell_type": "code",
   "execution_count": 5,
   "id": "e071dd41-dce2-49d1-9072-cc07b2117c39",
   "metadata": {},
   "outputs": [
    {
     "data": {
      "text/plain": [
       "True"
      ]
     },
     "execution_count": 5,
     "metadata": {},
     "output_type": "execute_result"
    }
   ],
   "source": [
    "somefunc(\"bob\", 3)"
   ]
  },
  {
   "cell_type": "code",
   "execution_count": 6,
   "id": "594ace34-4a2b-4cd0-910f-dc6e37390cdd",
   "metadata": {},
   "outputs": [
    {
     "data": {
      "text/plain": [
       "False"
      ]
     },
     "execution_count": 6,
     "metadata": {},
     "output_type": "execute_result"
    }
   ],
   "source": [
    "somefunc(\"bob\", 1)"
   ]
  }
 ],
 "metadata": {
  "kernelspec": {
   "display_name": "Python 3 (ipykernel)",
   "language": "python",
   "name": "python3"
  },
  "language_info": {
   "codemirror_mode": {
    "name": "ipython",
    "version": 3
   },
   "file_extension": ".py",
   "mimetype": "text/x-python",
   "name": "python",
   "nbconvert_exporter": "python",
   "pygments_lexer": "ipython3",
   "version": "3.12.5"
  }
 },
 "nbformat": 4,
 "nbformat_minor": 5
}
